{
  "cells": [
    {
      "cell_type": "markdown",
      "metadata": {
        "id": "i3MFxVUozu8e"
      },
      "source": [
        "# Chapter 3: Linear Regression for a housing dataset"
      ]
    },
    {
      "cell_type": "markdown",
      "source": [
        "### Setup environment  \n",
        "그래프 플로팅에 사용할 utils.py 를 다운받고  \n",
        "turicreate 패키지를 설치합니다."
      ],
      "metadata": {
        "id": "aKGiHwpAaQRF"
      }
    },
    {
      "cell_type": "code",
      "source": [
        "!git clone https://github.com/luisguiserrano/manning.git\n",
        "!cp -r /content/manning/Chapter_3_Linear_Regression/. /content/."
      ],
      "metadata": {
        "colab": {
          "base_uri": "https://localhost:8080/"
        },
        "id": "5mcbIvD210I8",
        "outputId": "e2dca306-4c3a-43fd-f473-22246307f800"
      },
      "execution_count": 1,
      "outputs": [
        {
          "output_type": "stream",
          "name": "stdout",
          "text": [
            "Cloning into 'manning'...\n",
            "remote: Enumerating objects: 1046, done.\u001b[K\n",
            "remote: Counting objects: 100% (21/21), done.\u001b[K\n",
            "remote: Compressing objects: 100% (21/21), done.\u001b[K\n",
            "remote: Total 1046 (delta 12), reused 0 (delta 0), pack-reused 1025\u001b[K\n",
            "Receiving objects: 100% (1046/1046), 61.50 MiB | 19.47 MiB/s, done.\n",
            "Resolving deltas: 100% (508/508), done.\n"
          ]
        }
      ]
    },
    {
      "cell_type": "code",
      "source": [
        "!pip -q install turicreate"
      ],
      "metadata": {
        "id": "-iSoV1BsDEoP"
      },
      "execution_count": 3,
      "outputs": []
    },
    {
      "cell_type": "markdown",
      "metadata": {
        "id": "V9mo2RPFzu8h"
      },
      "source": [
        "### Importing the necessary packages\n",
        "사용할 라이브러리 입니다.  \n",
        " - plt : 그래프를 그리거나 이미지를 다룰 때 사용합니다. [plt cheatsheet](https://matplotlib.org/cheatsheets/)\n",
        " - utils : plt 를 활용해 만든 모듈로, 시각화 함수들이 정의되어 있습니다."
      ]
    },
    {
      "cell_type": "code",
      "execution_count": 4,
      "metadata": {
        "id": "2hKzrxdJzu8i"
      },
      "outputs": [],
      "source": [
        "from matplotlib import pyplot as plt\n",
        "import numpy as np\n",
        "import random\n",
        "import utils"
      ]
    },
    {
      "cell_type": "markdown",
      "metadata": {
        "id": "CdmxX3JPzu8j"
      },
      "source": [
        "### Defining and plotting our dataset  \n",
        "예시로 사용될 임의의 데이터셋을 정의합니다. 예시에서는 방의 개수와 방값이 비례하는 데이터를 생성하였습니다."
      ]
    },
    {
      "cell_type": "code",
      "execution_count": 6,
      "metadata": {
        "id": "xtn0NozGzu8k",
        "outputId": "3b84328d-847b-4f39-ea6d-56ef628fbb69",
        "colab": {
          "base_uri": "https://localhost:8080/"
        }
      },
      "outputs": [
        {
          "output_type": "stream",
          "name": "stdout",
          "text": [
            "[1 2 3 5 6 7]\n",
            "[155 197 244 356 407 448]\n"
          ]
        }
      ],
      "source": [
        "# Number of rooms\n",
        "features = np.array([1,2,3,5,6,7])\n",
        "# prices\n",
        "labels = np.array([155, 197, 244, 356,407,448])\n",
        "\n",
        "print(features)\n",
        "print(labels)"
      ]
    },
    {
      "cell_type": "code",
      "execution_count": 7,
      "metadata": {
        "id": "39njLfC6zu8l",
        "outputId": "4cb80a1f-864c-43ac-f568-981423357c2f",
        "colab": {
          "base_uri": "https://localhost:8080/",
          "height": 279
        }
      },
      "outputs": [
        {
          "output_type": "display_data",
          "data": {
            "text/plain": [
              "<Figure size 432x288 with 1 Axes>"
            ],
            "image/png": "[encoded data removed]"
          },
          "metadata": {
            "needs_background": "light"
          }
        }
      ],
      "source": [
        "utils.plot_points(features, labels)"
      ]
    },
    {
      "cell_type": "markdown",
      "metadata": {
        "id": "oGngBV6Xzu8m"
      },
      "source": [
        "### Coding the tricks\n",
        "여기서 트릭은, 현재 예측과 답을 가지고 가중치를 조정하는 방법을 의미합니다. \n",
        "\n",
        "\n",
        "```py\n",
        "# 입력\n",
        "num_rooms\n",
        "# 가중치(weights)\n",
        "base_price    \n",
        "price_per_room \n",
        "# 예측\n",
        "predicted_price = base_price + price_per_room*num_rooms\n",
        "# 답 \n",
        "price\n",
        "```\n",
        "\n",
        "\n",
        "- Simple trick  \n",
        "  예측한 방값, 실제 가격, 방의 개수를 비교해 임의의 값 만큼 가중치를 조정합니다. 임의의 값은 [0, 0.1) 의 범위를 갖습니다.\n",
        "- Absolute trick  \n",
        "  loss 를 활용합니다. 이때 loss = | 예측 - 답 | 이고 loss를 줄이는 방향으로 가중치를 조정합니다. 조정 값은 아래와 같습니다. $$ -{∂loss \\over \\partial weight} (learning\\_rate) $$\n",
        "- Square trick  \n",
        "loss 를 활용합니다. 이때 loss = ( 예측 - 답 )^2 이고 loss를 줄이는 방향으로 가중치를 조정합니다. 조정 값은 아래와 같습니다. $$ -{∂loss \\over \\partial weight} (learning\\_rate) $$"
      ]
    },
    {
      "cell_type": "code",
      "execution_count": null,
      "metadata": {
        "id": "nEE_vtJIzu8m"
      },
      "outputs": [],
      "source": [
        "def simple_trick(base_price, price_per_room, num_rooms, price):\n",
        "    small_random_1 = random.random()*0.1\n",
        "    small_random_2 = random.random()*0.1\n",
        "    predicted_price = base_price + price_per_room*num_rooms\n",
        "    if price > predicted_price and num_rooms > 0:\n",
        "        price_per_room += small_random_1\n",
        "        base_price += small_random_2\n",
        "    if price > predicted_price and num_rooms < 0:\n",
        "        price_per_room -= small_random_1\n",
        "        base_price += small_random_2\n",
        "    if price < predicted_price and num_rooms > 0:\n",
        "        price_per_room -= small_random_1\n",
        "        base_price -= small_random_2\n",
        "    if price < predicted_price and num_rooms < 0:\n",
        "        price_per_room -= small_random_1\n",
        "        base_price += small_random_2\n",
        "    return price_per_room, base_price"
      ]
    },
    {
      "cell_type": "code",
      "execution_count": null,
      "metadata": {
        "id": "xbwBcK9yzu8o"
      },
      "outputs": [],
      "source": [
        "def absolute_trick(base_price, price_per_room, num_rooms, price, learning_rate):\n",
        "    predicted_price = base_price + price_per_room*num_rooms\n",
        "    if price > predicted_price:\n",
        "        price_per_room += learning_rate*num_rooms\n",
        "        base_price += learning_rate\n",
        "    else:\n",
        "        price_per_room -= learning_rate*num_rooms\n",
        "        base_price -= learning_rate\n",
        "    return price_per_room, base_price"
      ]
    },
    {
      "cell_type": "code",
      "execution_count": 8,
      "metadata": {
        "id": "kjfFiIT9zu8p"
      },
      "outputs": [],
      "source": [
        "def square_trick(base_price, price_per_room, num_rooms, price, learning_rate):\n",
        "    predicted_price = base_price + price_per_room*num_rooms\n",
        "    price_per_room += learning_rate*num_rooms*(price-predicted_price)\n",
        "    base_price += learning_rate*(price-predicted_price)\n",
        "    return price_per_room, base_price"
      ]
    },
    {
      "cell_type": "markdown",
      "metadata": {
        "id": "AEVfOvZBzu8p"
      },
      "source": [
        "### Running the linear regression algorithm\n",
        "\n",
        "The linear regression algorithm consists of:\n",
        "- Starting with random weights\n",
        "- Iterating the square (or simple, or absolute) trick many times.\n",
        "- 예시에서는 square trick 을 사용하여 1000 번 반복합니다."
      ]
    },
    {
      "cell_type": "code",
      "execution_count": 17,
      "metadata": {
        "id": "Nt0KR06Pzu8q",
        "outputId": "006da17b-af26-4e01-dee1-9cb53935ed3c",
        "colab": {
          "base_uri": "https://localhost:8080/",
          "height": 335
        }
      },
      "outputs": [
        {
          "output_type": "stream",
          "name": "stdout",
          "text": [
            "Price per room: 51.04430678220095\n",
            "Base price: 91.59448307644864\n"
          ]
        },
        {
          "output_type": "execute_result",
          "data": {
            "text/plain": [
              "(51.04430678220095, 91.59448307644864)"
            ]
          },
          "metadata": {},
          "execution_count": 17
        },
        {
          "output_type": "display_data",
          "data": {
            "text/plain": [
              "<Figure size 432x288 with 1 Axes>"
            ],
            "image/png": "[encoded data removed]"
          },
          "metadata": {
            "needs_background": "light"
          }
        }
      ],
      "source": [
        "import random\n",
        "\n",
        "# We set the random seed in order to always get the same results.\n",
        "random.seed(0)\n",
        "\n",
        "def linear_regression(features, labels, learning_rate=0.01, epochs = 1000):\n",
        "    price_per_room = random.random()\n",
        "    base_price = random.random()\n",
        "    for epoch in range(epochs):\n",
        "        # Uncomment any of the following lines to plot different epochs\n",
        "        #if epoch == 1:\n",
        "        #if epoch <= 10:\n",
        "        #if epoch <= 50:\n",
        "        #if epoch > 50:\n",
        "        # if True:\n",
        "        if epoch%(epochs//5)==0:\n",
        "            utils.draw_line(price_per_room, base_price, starting=0, ending=8)\n",
        "        i = random.randint(0, len(features)-1)\n",
        "        num_rooms = features[i]\n",
        "        price = labels[i]\n",
        "        # Uncomment any of the 2 following lines to use a different trick\n",
        "        #price_per_room, base_price = absolute_trick(base_price,\n",
        "        price_per_room, base_price = square_trick(base_price,\n",
        "                                                  price_per_room,\n",
        "                                                  num_rooms,\n",
        "                                                  price,\n",
        "                                                  learning_rate=learning_rate)\n",
        "    utils.draw_line(price_per_room, base_price, 'black', starting=0, ending=8)\n",
        "    utils.plot_points(features, labels)\n",
        "    print('Price per room:', price_per_room)\n",
        "    print('Base price:', base_price)\n",
        "    return price_per_room, base_price\n",
        "\n",
        "# This line is for the x-axis to appear in the figure\n",
        "plt.ylim(0,500)\n",
        "\n",
        "linear_regression(features, labels, learning_rate = 0.01, epochs = 1000)"
      ]
    },
    {
      "cell_type": "markdown",
      "metadata": {
        "id": "VPw2bLmvzu8q"
      },
      "source": [
        "### Root mean squared error function  \n",
        "RMSE 함수를 정의합니다. 식은 다음과 같습니다.\n",
        "$$ RMSE = \\sqrt{mean((predictions - labels)^2}) $$"
      ]
    },
    {
      "cell_type": "code",
      "execution_count": 18,
      "metadata": {
        "id": "Oqxxoi8xzu8r"
      },
      "outputs": [],
      "source": [
        "# The root mean square error function\n",
        "def rmse(labels, predictions):\n",
        "    n = len(labels)\n",
        "    differences = np.subtract(labels, predictions)\n",
        "    return np.sqrt(1.0/n * (np.dot(differences, differences)))"
      ]
    },
    {
      "cell_type": "code",
      "source": [
        "pred = np.array([150,200,250,350,400,450])\n",
        "label = np.array([155, 197, 244, 356,407,448])\n",
        "\n",
        "print(rmse(label, pred))"
      ],
      "metadata": {
        "colab": {
          "base_uri": "https://localhost:8080/"
        },
        "id": "1JxDjAvesVef",
        "outputId": "ab061f42-794c-4e92-be6a-a5ccb54dfcdb"
      },
      "execution_count": 19,
      "outputs": [
        {
          "output_type": "stream",
          "name": "stdout",
          "text": [
            "5.1478150704935\n"
          ]
        }
      ]
    },
    {
      "cell_type": "markdown",
      "metadata": {
        "id": "S4Q2bKErzu8r"
      },
      "source": [
        "### Plotting the error function  \n",
        "위 linear_regression 함수가 회귀하는 과정에서 error 를 시각화하였습니다.\n",
        "```\n",
        "predictions = features*price_per_room+base_price\n",
        "errors.append(rmse(labels, predictions))\n",
        "...\n",
        "plt.scatter(range(len(errors)), errors)\n",
        "plt.show()\n",
        "```\n",
        "* 아래와 같은 다차원 배열을 계산할 땐 차원에 주의해야 합니다.  \n",
        "[Numpy broadcasting](https://numpy.org/doc/stable/user/basics.broadcasting.html)\n",
        "```\n",
        "predictions = features*price_per_room+base_price\n",
        "shape: (6,) = (6,)    *(scalar)      +(scalar)\n",
        "```\n",
        "* 한번의 학습에 features 중 하나만 사용하는 Stochastic 방법을 볼 수 있습니다.\n",
        "```\n",
        "i = random.randint(0, len(features)-1)\n",
        "num_rooms = features[i]\n",
        "price = labels[i]\n",
        "```\n",
        "* plt의 여러 함수로 그래프에 여러가지를 추가할 수 있습니다.\n",
        "```\n",
        "plt.title('Root mean squared error')\n",
        "plt.xlabel('iteration')\n",
        "plt.ylabel('error')\n",
        "```"
      ]
    },
    {
      "cell_type": "code",
      "execution_count": null,
      "metadata": {
        "id": "5EN7iw7nzu8r",
        "outputId": "b0778492-0bfa-4bd2-e462-d2fb2c319740",
        "colab": {
          "base_uri": "https://localhost:8080/",
          "height": 582
        }
      },
      "outputs": [
        {
          "output_type": "stream",
          "name": "stdout",
          "text": [
            "Price per room: 50.207470222215356\n",
            "Base price: 99.04749771048769\n"
          ]
        },
        {
          "output_type": "display_data",
          "data": {
            "text/plain": [
              "<Figure size 432x288 with 1 Axes>"
            ],
            "image/png": "[encoded data removed]"
          },
          "metadata": {
            "needs_background": "light"
          }
        },
        {
          "output_type": "display_data",
          "data": {
            "text/plain": [
              "<Figure size 432x288 with 1 Axes>"
            ],
            "image/png": "[encoded data removed]"
          },
          "metadata": {
            "needs_background": "light"
          }
        },
        {
          "output_type": "execute_result",
          "data": {
            "text/plain": [
              "(50.207470222215356, 99.04749771048769)"
            ]
          },
          "metadata": {},
          "execution_count": 21
        }
      ],
      "source": [
        "def linear_regression(features, labels, learning_rate=0.01, epochs = 1000):\n",
        "    price_per_room = random.random()\n",
        "    base_price = random.random()\n",
        "    errors = []\n",
        "    for _ in range(epochs):\n",
        "        predictions = features*price_per_room+base_price\n",
        "        errors.append(rmse(labels, predictions))\n",
        "        i = random.randint(0, len(features)-1)\n",
        "        num_rooms = features[i]\n",
        "        price = labels[i]\n",
        "        # Uncomment one of the following 3 lines to use the simple, the absolute, or the square trick\n",
        "        #price_per_room, base_price = simple_trick(base_price,\n",
        "        #price_per_room, base_price = absolute_trick(base_price,\n",
        "        price_per_room, base_price = square_trick(base_price,\n",
        "                                                  price_per_room,\n",
        "                                                  num_rooms,\n",
        "                                                  price,\n",
        "                                                  learning_rate=learning_rate)\n",
        "    utils.draw_line(price_per_room, base_price, 'black', starting=0, ending=9)\n",
        "    utils.plot_points(features, labels)\n",
        "    print('Price per room:', price_per_room)\n",
        "    print('Base price:', base_price)\n",
        "    plt.show()\n",
        "    plt.scatter(range(len(errors)), errors)\n",
        "    plt.show()\n",
        "    return price_per_room, base_price\n",
        "\n",
        "linear_regression(features, labels, learning_rate = 0.01, epochs = 10000)\n"
      ]
    },
    {
      "cell_type": "markdown",
      "metadata": {
        "id": "qOCmyE_Dzu8s"
      },
      "source": [
        "### Linear regression in Turi Create\n",
        "Turicreate 에 정의된 linear_regression을 사용합니다. 이를 사용하기 위해 위에서 numpy.ndarray 로 정의한 데이터셋을 tc.Sframe 형태로 바꿔줍니다.  \n",
        "  \n",
        "Turicreate linear_regression 에 대한 상세한 설명은 아래 링크를 읽어보시기 바랍니다.  \n",
        "[tc.linear_regression.create() Docs](https://apple.github.io/turicreate/docs/api/generated/turicreate.linear_regression.create.html#turicreate.linear_regression.create)"
      ]
    },
    {
      "cell_type": "code",
      "execution_count": null,
      "metadata": {
        "id": "CfyfvzyZzu8s",
        "outputId": "7a95d7a6-a4b6-433d-cde8-b9358256b186",
        "colab": {
          "base_uri": "https://localhost:8080/",
          "height": 172
        }
      },
      "outputs": [
        {
          "output_type": "execute_result",
          "data": {
            "text/plain": [
              "Columns:\n",
              "\tfeatures\tint\n",
              "\tlabels\tint\n",
              "\n",
              "Rows: 6\n",
              "\n",
              "Data:\n",
              "+----------+--------+\n",
              "| features | labels |\n",
              "+----------+--------+\n",
              "|    1     |  155   |\n",
              "|    2     |  197   |\n",
              "|    3     |  244   |\n",
              "|    5     |  356   |\n",
              "|    6     |  407   |\n",
              "|    7     |  448   |\n",
              "+----------+--------+\n",
              "[6 rows x 2 columns]"
            ],
            "text/html": [
              "<div style=\"max-height:1000px;max-width:1500px;overflow:auto;\"><table frame=\"box\" rules=\"cols\">\n",
              "    <tr>\n",
              "        <th style=\"padding-left: 1em; padding-right: 1em; text-align: center\">features</th>\n",
              "        <th style=\"padding-left: 1em; padding-right: 1em; text-align: center\">labels</th>\n",
              "    </tr>\n",
              "    <tr>\n",
              "        <td style=\"padding-left: 1em; padding-right: 1em; text-align: center; vertical-align: top\">1</td>\n",
              "        <td style=\"padding-left: 1em; padding-right: 1em; text-align: center; vertical-align: top\">155</td>\n",
              "    </tr>\n",
              "    <tr>\n",
              "        <td style=\"padding-left: 1em; padding-right: 1em; text-align: center; vertical-align: top\">2</td>\n",
              "        <td style=\"padding-left: 1em; padding-right: 1em; text-align: center; vertical-align: top\">197</td>\n",
              "    </tr>\n",
              "    <tr>\n",
              "        <td style=\"padding-left: 1em; padding-right: 1em; text-align: center; vertical-align: top\">3</td>\n",
              "        <td style=\"padding-left: 1em; padding-right: 1em; text-align: center; vertical-align: top\">244</td>\n",
              "    </tr>\n",
              "    <tr>\n",
              "        <td style=\"padding-left: 1em; padding-right: 1em; text-align: center; vertical-align: top\">5</td>\n",
              "        <td style=\"padding-left: 1em; padding-right: 1em; text-align: center; vertical-align: top\">356</td>\n",
              "    </tr>\n",
              "    <tr>\n",
              "        <td style=\"padding-left: 1em; padding-right: 1em; text-align: center; vertical-align: top\">6</td>\n",
              "        <td style=\"padding-left: 1em; padding-right: 1em; text-align: center; vertical-align: top\">407</td>\n",
              "    </tr>\n",
              "    <tr>\n",
              "        <td style=\"padding-left: 1em; padding-right: 1em; text-align: center; vertical-align: top\">7</td>\n",
              "        <td style=\"padding-left: 1em; padding-right: 1em; text-align: center; vertical-align: top\">448</td>\n",
              "    </tr>\n",
              "</table>\n",
              "[6 rows x 2 columns]<br/>\n",
              "</div>"
            ]
          },
          "metadata": {},
          "execution_count": 12
        }
      ],
      "source": [
        "import turicreate as tc\n",
        "\n",
        "datadict = {\n",
        "    'features': features,\n",
        "    'labels'  : labels,\n",
        "}\n",
        "\n",
        "data = tc.SFrame(datadict)\n",
        "\n",
        "data"
      ]
    },
    {
      "cell_type": "code",
      "execution_count": null,
      "metadata": {
        "id": "_0U5hdArzu8s",
        "outputId": "2c3c9d1a-1b2a-4ed5-ceed-866b2ebd9d41",
        "colab": {
          "base_uri": "https://localhost:8080/",
          "height": 260
        }
      },
      "outputs": [
        {
          "output_type": "display_data",
          "data": {
            "text/plain": [
              "Linear regression:"
            ],
            "text/html": [
              "<pre>Linear regression:</pre>"
            ]
          },
          "metadata": {}
        },
        {
          "output_type": "display_data",
          "data": {
            "text/plain": [
              "--------------------------------------------------------"
            ],
            "text/html": [
              "<pre>--------------------------------------------------------</pre>"
            ]
          },
          "metadata": {}
        },
        {
          "output_type": "display_data",
          "data": {
            "text/plain": [
              "Number of examples          : 6"
            ],
            "text/html": [
              "<pre>Number of examples          : 6</pre>"
            ]
          },
          "metadata": {}
        },
        {
          "output_type": "display_data",
          "data": {
            "text/plain": [
              "Number of features          : 1"
            ],
            "text/html": [
              "<pre>Number of features          : 1</pre>"
            ]
          },
          "metadata": {}
        },
        {
          "output_type": "display_data",
          "data": {
            "text/plain": [
              "Number of unpacked features : 1"
            ],
            "text/html": [
              "<pre>Number of unpacked features : 1</pre>"
            ]
          },
          "metadata": {}
        },
        {
          "output_type": "display_data",
          "data": {
            "text/plain": [
              "Number of coefficients    : 2"
            ],
            "text/html": [
              "<pre>Number of coefficients    : 2</pre>"
            ]
          },
          "metadata": {}
        },
        {
          "output_type": "display_data",
          "data": {
            "text/plain": [
              "Starting Newton Method"
            ],
            "text/html": [
              "<pre>Starting Newton Method</pre>"
            ]
          },
          "metadata": {}
        },
        {
          "output_type": "display_data",
          "data": {
            "text/plain": [
              "--------------------------------------------------------"
            ],
            "text/html": [
              "<pre>--------------------------------------------------------</pre>"
            ]
          },
          "metadata": {}
        },
        {
          "output_type": "display_data",
          "data": {
            "text/plain": [
              "+-----------+----------+--------------+--------------------+---------------------------------+"
            ],
            "text/html": [
              "<pre>+-----------+----------+--------------+--------------------+---------------------------------+</pre>"
            ]
          },
          "metadata": {}
        },
        {
          "output_type": "display_data",
          "data": {
            "text/plain": [
              "| Iteration | Passes   | Elapsed Time | Training Max Error | Training Root-Mean-Square Error |"
            ],
            "text/html": [
              "<pre>| Iteration | Passes   | Elapsed Time | Training Max Error | Training Root-Mean-Square Error |</pre>"
            ]
          },
          "metadata": {}
        },
        {
          "output_type": "display_data",
          "data": {
            "text/plain": [
              "+-----------+----------+--------------+--------------------+---------------------------------+"
            ],
            "text/html": [
              "<pre>+-----------+----------+--------------+--------------------+---------------------------------+</pre>"
            ]
          },
          "metadata": {}
        },
        {
          "output_type": "display_data",
          "data": {
            "text/plain": [
              "| 1         | 2        | 1.000998     | 7.159578           | 5.011301                        |"
            ],
            "text/html": [
              "<pre>| 1         | 2        | 1.000998     | 7.159578           | 5.011301                        |</pre>"
            ]
          },
          "metadata": {}
        },
        {
          "output_type": "display_data",
          "data": {
            "text/plain": [
              "+-----------+----------+--------------+--------------------+---------------------------------+"
            ],
            "text/html": [
              "<pre>+-----------+----------+--------------+--------------------+---------------------------------+</pre>"
            ]
          },
          "metadata": {}
        },
        {
          "output_type": "display_data",
          "data": {
            "text/plain": [
              "SUCCESS: Optimal solution found."
            ],
            "text/html": [
              "<pre>SUCCESS: Optimal solution found.</pre>"
            ]
          },
          "metadata": {}
        },
        {
          "output_type": "display_data",
          "data": {
            "text/plain": [
              ""
            ],
            "text/html": [
              "<pre></pre>"
            ]
          },
          "metadata": {}
        }
      ],
      "source": [
        "\n",
        "model = tc.linear_regression.create(data, target='labels')\n",
        "model2 = tc.linear_regression.create(\n",
        "    data, \n",
        "    target='labels', \n",
        "    features=None, \n",
        "    l2_penalty=0.01, \n",
        "    l1_penalty=0, \n",
        "    solver=\"auto\", \n",
        "    feature_rescaling=True, \n",
        "    validation_set=\"auto\", \n",
        "    verbose=True\n",
        ")"
      ]
    },
    {
      "cell_type": "code",
      "execution_count": null,
      "metadata": {
        "id": "yGDvLLNwzu8s",
        "outputId": "913cf6a9-ebaa-4416-c36f-26f1755c9195",
        "colab": {
          "base_uri": "https://localhost:8080/",
          "height": 216
        }
      },
      "outputs": [
        {
          "output_type": "display_data",
          "data": {
            "text/plain": [
              "Linear regression:"
            ],
            "text/html": [
              "<pre>Linear regression:</pre>"
            ]
          },
          "metadata": {}
        },
        {
          "output_type": "display_data",
          "data": {
            "text/plain": [
              "--------------------------------------------------------"
            ],
            "text/html": [
              "<pre>--------------------------------------------------------</pre>"
            ]
          },
          "metadata": {}
        },
        {
          "output_type": "display_data",
          "data": {
            "text/plain": [
              "Number of examples          : 6"
            ],
            "text/html": [
              "<pre>Number of examples          : 6</pre>"
            ]
          },
          "metadata": {}
        },
        {
          "output_type": "display_data",
          "data": {
            "text/plain": [
              "Number of features          : 1"
            ],
            "text/html": [
              "<pre>Number of features          : 1</pre>"
            ]
          },
          "metadata": {}
        },
        {
          "output_type": "display_data",
          "data": {
            "text/plain": [
              "Number of unpacked features : 1"
            ],
            "text/html": [
              "<pre>Number of unpacked features : 1</pre>"
            ]
          },
          "metadata": {}
        },
        {
          "output_type": "execute_result",
          "data": {
            "text/plain": [
              "Columns:\n",
              "\tname\tstr\n",
              "\tindex\tstr\n",
              "\tvalue\tfloat\n",
              "\tstderr\tfloat\n",
              "\n",
              "Rows: 2\n",
              "\n",
              "Data:\n",
              "+-------------+-------+--------------------+--------------------+\n",
              "|     name    | index |       value        |       stderr       |\n",
              "+-------------+-------+--------------------+--------------------+\n",
              "| (intercept) |  None | 101.13831392475663 | 5.2729333579825095 |\n",
              "|   features  |  None | 50.007088185477514 | 1.1598906969719875 |\n",
              "+-------------+-------+--------------------+--------------------+\n",
              "[2 rows x 4 columns]"
            ],
            "text/html": [
              "<div style=\"max-height:1000px;max-width:1500px;overflow:auto;\"><table frame=\"box\" rules=\"cols\">\n",
              "    <tr>\n",
              "        <th style=\"padding-left: 1em; padding-right: 1em; text-align: center\">name</th>\n",
              "        <th style=\"padding-left: 1em; padding-right: 1em; text-align: center\">index</th>\n",
              "        <th style=\"padding-left: 1em; padding-right: 1em; text-align: center\">value</th>\n",
              "        <th style=\"padding-left: 1em; padding-right: 1em; text-align: center\">stderr</th>\n",
              "    </tr>\n",
              "    <tr>\n",
              "        <td style=\"padding-left: 1em; padding-right: 1em; text-align: center; vertical-align: top\">(intercept)</td>\n",
              "        <td style=\"padding-left: 1em; padding-right: 1em; text-align: center; vertical-align: top\">None</td>\n",
              "        <td style=\"padding-left: 1em; padding-right: 1em; text-align: center; vertical-align: top\">101.13831392475663</td>\n",
              "        <td style=\"padding-left: 1em; padding-right: 1em; text-align: center; vertical-align: top\">5.2729333579825095</td>\n",
              "    </tr>\n",
              "    <tr>\n",
              "        <td style=\"padding-left: 1em; padding-right: 1em; text-align: center; vertical-align: top\">features</td>\n",
              "        <td style=\"padding-left: 1em; padding-right: 1em; text-align: center; vertical-align: top\">None</td>\n",
              "        <td style=\"padding-left: 1em; padding-right: 1em; text-align: center; vertical-align: top\">50.007088185477514</td>\n",
              "        <td style=\"padding-left: 1em; padding-right: 1em; text-align: center; vertical-align: top\">1.1598906969719875</td>\n",
              "    </tr>\n",
              "</table>\n",
              "[2 rows x 4 columns]<br/>\n",
              "</div>"
            ]
          },
          "metadata": {},
          "execution_count": 14
        },
        {
          "output_type": "display_data",
          "data": {
            "text/plain": [
              "Number of coefficients    : 2"
            ],
            "text/html": [
              "<pre>Number of coefficients    : 2</pre>"
            ]
          },
          "metadata": {}
        },
        {
          "output_type": "display_data",
          "data": {
            "text/plain": [
              "Starting Newton Method"
            ],
            "text/html": [
              "<pre>Starting Newton Method</pre>"
            ]
          },
          "metadata": {}
        }
      ],
      "source": [
        "model.coefficients"
      ]
    },
    {
      "cell_type": "code",
      "execution_count": null,
      "metadata": {
        "id": "aJLDFWCczu8t",
        "outputId": "371f4e5e-80d4-4c05-87e0-1b03bd954d5d",
        "colab": {
          "base_uri": "https://localhost:8080/"
        }
      },
      "outputs": [
        {
          "output_type": "execute_result",
          "data": {
            "text/plain": [
              "dtype: float\n",
              "Rows: 1\n",
              "[301.1666666666667]"
            ]
          },
          "metadata": {},
          "execution_count": 16
        }
      ],
      "source": [
        "new_point = tc.SFrame({'features': [4]})\n",
        "\n",
        "model.predict(new_point)"
      ]
    }
  ],
  "metadata": {
    "kernelspec": {
      "display_name": "Python 3",
      "language": "python",
      "name": "python3"
    },
    "language_info": {
      "codemirror_mode": {
        "name": "ipython",
        "version": 3
      },
      "file_extension": ".py",
      "mimetype": "text/x-python",
      "name": "python",
      "nbconvert_exporter": "python",
      "pygments_lexer": "ipython3",
      "version": "3.7.10"
    },
    "colab": {
      "provenance": [],
      "collapsed_sections": []
    }
  },
  "nbformat": 4,
  "nbformat_minor": 0
}